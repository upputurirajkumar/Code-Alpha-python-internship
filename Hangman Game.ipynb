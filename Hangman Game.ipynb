{
  "nbformat": 4,
  "nbformat_minor": 0,
  "metadata": {
    "colab": {
      "provenance": [],
      "authorship_tag": "ABX9TyNgHnliYsQj/V+9qRxRADcD",
      "include_colab_link": true
    },
    "kernelspec": {
      "name": "python3",
      "display_name": "Python 3"
    },
    "language_info": {
      "name": "python"
    }
  },
  "cells": [
    {
      "cell_type": "markdown",
      "metadata": {
        "id": "view-in-github",
        "colab_type": "text"
      },
      "source": [
        "<a href=\"https://colab.research.google.com/github/upputurirajkumar/Code-Alpha-python-internship/blob/main/Hangman%20Game.ipynb\" target=\"_parent\"><img src=\"https://colab.research.google.com/assets/colab-badge.svg\" alt=\"Open In Colab\"/></a>"
      ]
    },
    {
      "cell_type": "code",
      "execution_count": 1,
      "metadata": {
        "id": "P6I1kMWTZvf1"
      },
      "outputs": [],
      "source": [
        "#----------------------------------------*Just some sweet ergonomics:\n",
        "class ANSIColor:\n",
        "    COLORS = {\n",
        "        'black': 30, 'red': 31, 'green': 32, 'yellow': 33, 'blue': 34,\n",
        "        'magenta': 35, 'cyan': 36, 'white': 37,\n",
        "        'bright_black': 90, 'bright_red': 91, 'bright_green': 92,\n",
        "        'bright_yellow': 93, 'bright_blue': 94, 'bright_magenta': 95,\n",
        "        'bright_cyan': 96, 'bright_white': 97\n",
        "    }\n",
        "\n",
        "    BACKGROUNDS = {\n",
        "        'black': 40, 'red': 41, 'green': 42, 'yellow': 43, 'blue': 44,\n",
        "        'magenta': 45, 'cyan': 46, 'white': 47,\n",
        "        'bright_black': 100, 'bright_red': 101, 'bright_green': 102,\n",
        "        'bright_yellow': 103, 'bright_blue': 104, 'bright_magenta': 105,\n",
        "        'bright_cyan': 106, 'bright_white': 107\n",
        "    }\n",
        "\n",
        "    STYLES = {\n",
        "        'reset': 0, 'bold': 1, 'dim': 2, 'italic': 3, 'underline': 4,\n",
        "        'blink': 5, 'inverse': 7, 'hidden': 8, 'strikethrough': 9\n",
        "    }\n",
        "\n",
        "    @staticmethod\n",
        "    def format_text(text, color=None, bg_color=None, style=None):\n",
        "        color_code = ANSIColor.COLORS.get(color, '')\n",
        "        bg_color_code = ANSIColor.BACKGROUNDS.get(bg_color, '')\n",
        "        style_code = ANSIColor.STYLES.get(style, '')\n",
        "\n",
        "        codes = ';'.join(filter(None, [str(style_code), str(color_code), str(bg_color_code)]))\n",
        "\n",
        "        return f\"\\033[{codes}m{text}\\033[0m\""
      ]
    },
    {
      "cell_type": "code",
      "source": [
        "import random\n",
        "\n",
        "class ANSIColor:\n",
        "    @staticmethod\n",
        "    def format_text(text, color=None, bg_color=None, style=None):\n",
        "        color_codes = {\n",
        "            'black': '30', 'red': '31', 'green': '32', 'yellow': '33', 'blue': '34', 'magenta': '35', 'cyan': '36', 'white': '37',\n",
        "            'bright_black': '90', 'bright_red': '91', 'bright_green': '92', 'bright_yellow': '93', 'bright_blue': '94', 'bright_magenta': '95', 'bright_cyan': '96', 'bright_white': '97'\n",
        "        }\n",
        "        style_codes = {'bold': '1', 'italic': '3', 'underline': '4'}\n",
        "\n",
        "        style_code = style_codes.get(style, '')\n",
        "        color_code = color_codes.get(color, '')\n",
        "        bg_color_code = color_codes.get(bg_color, '').replace('3', '4', 1)\n",
        "\n",
        "        codes = ';'.join(filter(None, [style_code, color_code, bg_color_code]))\n",
        "        return f\"\\033[{codes}m{text}\\033[0m\" if codes else text\n",
        "\n",
        "def choose_word():\n",
        "    words = [\"codealpha\", \"python\", \"programming\", \"computer\", \"science\", \"algorithm\", \"database\", \"network\"]\n",
        "    return random.choice(words)\n",
        "\n",
        "def display_word(word, guessed_letters):\n",
        "    return ''.join(letter if letter in guessed_letters else '_' for letter in word)\n",
        "\n",
        "def update_lives(lives):\n",
        "    return ANSIColor.format_text(str(lives), color='bright_red', bg_color='black', style='bold')\n",
        "\n",
        "def hangman():\n",
        "    word = choose_word()\n",
        "    word_letters = set(word)\n",
        "    alphabet = set('abcdefghijklmnopqrstuvwxyz')\n",
        "    guessed_letters = set()\n",
        "\n",
        "    lives = 6\n",
        "    colored_lives = update_lives(lives)\n",
        "\n",
        "    welcome_text = \">>> Welcome to Hangman!\"\n",
        "    colored_welcome = ANSIColor.format_text(welcome_text, color='red', bg_color='bright_white', style='bold')\n",
        "    print(colored_welcome)\n",
        "\n",
        "    while len(word_letters) > 0 and lives > 0:\n",
        "        print(f\"You have {colored_lives} lives left.\")\n",
        "        print(\"Letters used:\", ' '.join(guessed_letters))\n",
        "        print(\"Current word:\", display_word(word, guessed_letters))\n",
        "\n",
        "        guess = input(\"Guess a letter: \").lower()\n",
        "        if guess in alphabet - guessed_letters:\n",
        "            guessed_letters.add(guess)\n",
        "            if guess in word_letters:\n",
        "                word_letters.remove(guess)\n",
        "            else:\n",
        "                lives -= 1\n",
        "                colored_lives = update_lives(lives)\n",
        "                print(\"Letter is not in the word.\")\n",
        "        elif guess in guessed_letters:\n",
        "            print(\"You've already guessed that letter. Try again!\")\n",
        "        else:\n",
        "            print(\"Invalid character. Please enter a letter.\")\n",
        "\n",
        "    Coloured_Word = ANSIColor.format_text(str(word), color='bright_white', bg_color='bright_green', style='bold')\n",
        "    if lives == 0:\n",
        "        print(f\"Sorry, you died. The word was {Coloured_Word}\")\n",
        "    else:\n",
        "        print(f\"Congratulations! You guessed the word {Coloured_Word}!\")\n",
        "\n",
        "if __name__ == \"__main__\":\n",
        "    hangman()\n"
      ],
      "metadata": {
        "colab": {
          "base_uri": "https://localhost:8080/"
        },
        "id": "sooX3hfbbU6z",
        "outputId": "ebf38308-e430-4410-8f42-ef15670abe03"
      },
      "execution_count": 1,
      "outputs": [
        {
          "output_type": "stream",
          "name": "stdout",
          "text": [
            "\u001b[1;31;97m>>> Welcome to Hangman!\u001b[0m\n",
            "You have \u001b[1;91;40m6\u001b[0m lives left.\n",
            "Letters used: \n",
            "Current word: ________\n",
            "Guess a letter: c\n",
            "You have \u001b[1;91;40m6\u001b[0m lives left.\n",
            "Letters used: c\n",
            "Current word: c_______\n",
            "Guess a letter: o\n",
            "You have \u001b[1;91;40m6\u001b[0m lives left.\n",
            "Letters used: c o\n",
            "Current word: co______\n",
            "Guess a letter: m\n",
            "You have \u001b[1;91;40m6\u001b[0m lives left.\n",
            "Letters used: c m o\n",
            "Current word: com_____\n",
            "Guess a letter: p\n",
            "You have \u001b[1;91;40m6\u001b[0m lives left.\n",
            "Letters used: c m p o\n",
            "Current word: comp____\n",
            "Guess a letter: u\n",
            "You have \u001b[1;91;40m6\u001b[0m lives left.\n",
            "Letters used: c o p u m\n",
            "Current word: compu___\n",
            "Guess a letter: t\n",
            "You have \u001b[1;91;40m6\u001b[0m lives left.\n",
            "Letters used: c o p t u m\n",
            "Current word: comput__\n",
            "Guess a letter: e\n",
            "You have \u001b[1;91;40m6\u001b[0m lives left.\n",
            "Letters used: c o p e t u m\n",
            "Current word: compute_\n",
            "Guess a letter: r\n",
            "Congratulations! You guessed the word \u001b[1;97;92mcomputer\u001b[0m!\n"
          ]
        }
      ]
    }
  ]
}